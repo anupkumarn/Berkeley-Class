{
 "cells": [
  {
   "cell_type": "code",
   "execution_count": 5,
   "metadata": {},
   "outputs": [
    {
     "name": "stdout",
     "output_type": "stream",
     "text": [
      "This is public class\n",
      "... now this Class is private\n"
     ]
    }
   ],
   "source": [
    "##Modules:\n",
    "publiv_var = 12\n",
    "_private_var = 34\n",
    "\n",
    "__all__ = ['public_var','_private_var','_private_fun']\n",
    "\n",
    "def public_fun():\n",
    "    sum_pub_priv = public_var + _private_var\n",
    "    print('This function is public. The sum is ', sum_pub_priv)\n",
    "    \n",
    "def _private_fun():\n",
    "    print('... now this function is set to be private')\n",
    "    \n",
    "class PublicClass():\n",
    "    print('This is public class')\n",
    "class _PrivateClass():\n",
    "    print('... now this Class is private')"
   ]
  },
  {
   "cell_type": "code",
   "execution_count": null,
   "metadata": {},
   "outputs": [],
   "source": []
  }
 ],
 "metadata": {
  "kernelspec": {
   "display_name": "Python 3",
   "language": "python",
   "name": "python3"
  },
  "language_info": {
   "codemirror_mode": {
    "name": "ipython",
    "version": 3
   },
   "file_extension": ".py",
   "mimetype": "text/x-python",
   "name": "python",
   "nbconvert_exporter": "python",
   "pygments_lexer": "ipython3",
   "version": "3.6.5"
  }
 },
 "nbformat": 4,
 "nbformat_minor": 2
}
